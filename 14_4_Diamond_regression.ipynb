{
  "nbformat": 4,
  "nbformat_minor": 0,
  "metadata": {
    "colab": {
      "name": "14/4 Diamond regression.ipynb",
      "provenance": []
    },
    "kernelspec": {
      "name": "python3",
      "display_name": "Python 3"
    },
    "language_info": {
      "name": "python"
    }
  },
  "cells": [
    {
      "cell_type": "code",
      "execution_count": 1,
      "metadata": {
        "id": "v4XFl4G8zmuR"
      },
      "outputs": [],
      "source": [
        "import pandas as pd\n",
        "from sklearn.model_selection import train_test_split\n",
        "from sklearn.preprocessing import StandardScaler, OrdinalEncoder\n",
        "import numpy as np\n",
        "import tensorflow as tf\n",
        "import matplotlib.pyplot as plt\n",
        "import datetime\n",
        "import os"
      ]
    },
    {
      "cell_type": "code",
      "source": [
        "data = pd.read_csv('/content/diamonds.csv')"
      ],
      "metadata": {
        "id": "yJW9QKHo0HZ0"
      },
      "execution_count": 2,
      "outputs": []
    },
    {
      "cell_type": "code",
      "source": [
        "data = data.drop('Unnamed: 0', axis=1)"
      ],
      "metadata": {
        "id": "H7I0McvqW7fM"
      },
      "execution_count": 3,
      "outputs": []
    },
    {
      "cell_type": "code",
      "source": [
        "features = data.copy()\n",
        "target = data.pop('price')"
      ],
      "metadata": {
        "id": "n4IL5HqvZIUH"
      },
      "execution_count": 4,
      "outputs": []
    },
    {
      "cell_type": "code",
      "source": [
        "features.head()"
      ],
      "metadata": {
        "colab": {
          "base_uri": "https://localhost:8080/",
          "height": 206
        },
        "id": "fwexroI_2tBb",
        "outputId": "5d7009cf-7727-40d5-9165-e34e5d2e0656"
      },
      "execution_count": 5,
      "outputs": [
        {
          "output_type": "execute_result",
          "data": {
            "text/plain": [
              "   carat      cut color clarity  depth  table  price     x     y     z\n",
              "0   0.23    Ideal     E     SI2   61.5   55.0    326  3.95  3.98  2.43\n",
              "1   0.21  Premium     E     SI1   59.8   61.0    326  3.89  3.84  2.31\n",
              "2   0.23     Good     E     VS1   56.9   65.0    327  4.05  4.07  2.31\n",
              "3   0.29  Premium     I     VS2   62.4   58.0    334  4.20  4.23  2.63\n",
              "4   0.31     Good     J     SI2   63.3   58.0    335  4.34  4.35  2.75"
            ],
            "text/html": [
              "\n",
              "  <div id=\"df-6574de21-3b64-41dc-b880-6c02cff04851\">\n",
              "    <div class=\"colab-df-container\">\n",
              "      <div>\n",
              "<style scoped>\n",
              "    .dataframe tbody tr th:only-of-type {\n",
              "        vertical-align: middle;\n",
              "    }\n",
              "\n",
              "    .dataframe tbody tr th {\n",
              "        vertical-align: top;\n",
              "    }\n",
              "\n",
              "    .dataframe thead th {\n",
              "        text-align: right;\n",
              "    }\n",
              "</style>\n",
              "<table border=\"1\" class=\"dataframe\">\n",
              "  <thead>\n",
              "    <tr style=\"text-align: right;\">\n",
              "      <th></th>\n",
              "      <th>carat</th>\n",
              "      <th>cut</th>\n",
              "      <th>color</th>\n",
              "      <th>clarity</th>\n",
              "      <th>depth</th>\n",
              "      <th>table</th>\n",
              "      <th>price</th>\n",
              "      <th>x</th>\n",
              "      <th>y</th>\n",
              "      <th>z</th>\n",
              "    </tr>\n",
              "  </thead>\n",
              "  <tbody>\n",
              "    <tr>\n",
              "      <th>0</th>\n",
              "      <td>0.23</td>\n",
              "      <td>Ideal</td>\n",
              "      <td>E</td>\n",
              "      <td>SI2</td>\n",
              "      <td>61.5</td>\n",
              "      <td>55.0</td>\n",
              "      <td>326</td>\n",
              "      <td>3.95</td>\n",
              "      <td>3.98</td>\n",
              "      <td>2.43</td>\n",
              "    </tr>\n",
              "    <tr>\n",
              "      <th>1</th>\n",
              "      <td>0.21</td>\n",
              "      <td>Premium</td>\n",
              "      <td>E</td>\n",
              "      <td>SI1</td>\n",
              "      <td>59.8</td>\n",
              "      <td>61.0</td>\n",
              "      <td>326</td>\n",
              "      <td>3.89</td>\n",
              "      <td>3.84</td>\n",
              "      <td>2.31</td>\n",
              "    </tr>\n",
              "    <tr>\n",
              "      <th>2</th>\n",
              "      <td>0.23</td>\n",
              "      <td>Good</td>\n",
              "      <td>E</td>\n",
              "      <td>VS1</td>\n",
              "      <td>56.9</td>\n",
              "      <td>65.0</td>\n",
              "      <td>327</td>\n",
              "      <td>4.05</td>\n",
              "      <td>4.07</td>\n",
              "      <td>2.31</td>\n",
              "    </tr>\n",
              "    <tr>\n",
              "      <th>3</th>\n",
              "      <td>0.29</td>\n",
              "      <td>Premium</td>\n",
              "      <td>I</td>\n",
              "      <td>VS2</td>\n",
              "      <td>62.4</td>\n",
              "      <td>58.0</td>\n",
              "      <td>334</td>\n",
              "      <td>4.20</td>\n",
              "      <td>4.23</td>\n",
              "      <td>2.63</td>\n",
              "    </tr>\n",
              "    <tr>\n",
              "      <th>4</th>\n",
              "      <td>0.31</td>\n",
              "      <td>Good</td>\n",
              "      <td>J</td>\n",
              "      <td>SI2</td>\n",
              "      <td>63.3</td>\n",
              "      <td>58.0</td>\n",
              "      <td>335</td>\n",
              "      <td>4.34</td>\n",
              "      <td>4.35</td>\n",
              "      <td>2.75</td>\n",
              "    </tr>\n",
              "  </tbody>\n",
              "</table>\n",
              "</div>\n",
              "      <button class=\"colab-df-convert\" onclick=\"convertToInteractive('df-6574de21-3b64-41dc-b880-6c02cff04851')\"\n",
              "              title=\"Convert this dataframe to an interactive table.\"\n",
              "              style=\"display:none;\">\n",
              "        \n",
              "  <svg xmlns=\"http://www.w3.org/2000/svg\" height=\"24px\"viewBox=\"0 0 24 24\"\n",
              "       width=\"24px\">\n",
              "    <path d=\"M0 0h24v24H0V0z\" fill=\"none\"/>\n",
              "    <path d=\"M18.56 5.44l.94 2.06.94-2.06 2.06-.94-2.06-.94-.94-2.06-.94 2.06-2.06.94zm-11 1L8.5 8.5l.94-2.06 2.06-.94-2.06-.94L8.5 2.5l-.94 2.06-2.06.94zm10 10l.94 2.06.94-2.06 2.06-.94-2.06-.94-.94-2.06-.94 2.06-2.06.94z\"/><path d=\"M17.41 7.96l-1.37-1.37c-.4-.4-.92-.59-1.43-.59-.52 0-1.04.2-1.43.59L10.3 9.45l-7.72 7.72c-.78.78-.78 2.05 0 2.83L4 21.41c.39.39.9.59 1.41.59.51 0 1.02-.2 1.41-.59l7.78-7.78 2.81-2.81c.8-.78.8-2.07 0-2.86zM5.41 20L4 18.59l7.72-7.72 1.47 1.35L5.41 20z\"/>\n",
              "  </svg>\n",
              "      </button>\n",
              "      \n",
              "  <style>\n",
              "    .colab-df-container {\n",
              "      display:flex;\n",
              "      flex-wrap:wrap;\n",
              "      gap: 12px;\n",
              "    }\n",
              "\n",
              "    .colab-df-convert {\n",
              "      background-color: #E8F0FE;\n",
              "      border: none;\n",
              "      border-radius: 50%;\n",
              "      cursor: pointer;\n",
              "      display: none;\n",
              "      fill: #1967D2;\n",
              "      height: 32px;\n",
              "      padding: 0 0 0 0;\n",
              "      width: 32px;\n",
              "    }\n",
              "\n",
              "    .colab-df-convert:hover {\n",
              "      background-color: #E2EBFA;\n",
              "      box-shadow: 0px 1px 2px rgba(60, 64, 67, 0.3), 0px 1px 3px 1px rgba(60, 64, 67, 0.15);\n",
              "      fill: #174EA6;\n",
              "    }\n",
              "\n",
              "    [theme=dark] .colab-df-convert {\n",
              "      background-color: #3B4455;\n",
              "      fill: #D2E3FC;\n",
              "    }\n",
              "\n",
              "    [theme=dark] .colab-df-convert:hover {\n",
              "      background-color: #434B5C;\n",
              "      box-shadow: 0px 1px 3px 1px rgba(0, 0, 0, 0.15);\n",
              "      filter: drop-shadow(0px 1px 2px rgba(0, 0, 0, 0.3));\n",
              "      fill: #FFFFFF;\n",
              "    }\n",
              "  </style>\n",
              "\n",
              "      <script>\n",
              "        const buttonEl =\n",
              "          document.querySelector('#df-6574de21-3b64-41dc-b880-6c02cff04851 button.colab-df-convert');\n",
              "        buttonEl.style.display =\n",
              "          google.colab.kernel.accessAllowed ? 'block' : 'none';\n",
              "\n",
              "        async function convertToInteractive(key) {\n",
              "          const element = document.querySelector('#df-6574de21-3b64-41dc-b880-6c02cff04851');\n",
              "          const dataTable =\n",
              "            await google.colab.kernel.invokeFunction('convertToInteractive',\n",
              "                                                     [key], {});\n",
              "          if (!dataTable) return;\n",
              "\n",
              "          const docLinkHtml = 'Like what you see? Visit the ' +\n",
              "            '<a target=\"_blank\" href=https://colab.research.google.com/notebooks/data_table.ipynb>data table notebook</a>'\n",
              "            + ' to learn more about interactive tables.';\n",
              "          element.innerHTML = '';\n",
              "          dataTable['output_type'] = 'display_data';\n",
              "          await google.colab.output.renderOutput(dataTable, element);\n",
              "          const docLink = document.createElement('div');\n",
              "          docLink.innerHTML = docLinkHtml;\n",
              "          element.appendChild(docLink);\n",
              "        }\n",
              "      </script>\n",
              "    </div>\n",
              "  </div>\n",
              "  "
            ]
          },
          "metadata": {},
          "execution_count": 5
        }
      ]
    },
    {
      "cell_type": "code",
      "source": [
        "#doing ordinal encoding on categorical featurs\n",
        "#since all of cut/color/clarity all function on a spectrum\n",
        "cut_cats = ['Fair', 'Good', 'Very Good', 'Premium', 'Ideal']\n",
        "color_cats = ['J', 'I', 'H', 'G','F', 'E', 'D']\n",
        "clarity_cats = ['I1', 'SI2', 'SI1', 'VS2', 'VS1', 'VVS2', 'VVS1', 'IF']\n",
        "\n",
        "ordinal_encoder = OrdinalEncoder(categories = [cut_cats, color_cats, clarity_cats])\n",
        "features[['cut', 'color', 'clarity']] = ordinal_encoder.fit_transform(features[['cut', 'color', 'clarity']])\n",
        "\n",
        "print(features.head())"
      ],
      "metadata": {
        "colab": {
          "base_uri": "https://localhost:8080/"
        },
        "id": "lOphXXFq2kkk",
        "outputId": "6d674403-f5cf-4a97-ac8a-a89dcff51ed9"
      },
      "execution_count": 6,
      "outputs": [
        {
          "output_type": "stream",
          "name": "stdout",
          "text": [
            "   carat  cut  color  clarity  depth  table  price     x     y     z\n",
            "0   0.23  4.0    5.0      1.0   61.5   55.0    326  3.95  3.98  2.43\n",
            "1   0.21  3.0    5.0      2.0   59.8   61.0    326  3.89  3.84  2.31\n",
            "2   0.23  1.0    5.0      4.0   56.9   65.0    327  4.05  4.07  2.31\n",
            "3   0.29  3.0    1.0      3.0   62.4   58.0    334  4.20  4.23  2.63\n",
            "4   0.31  1.0    0.0      1.0   63.3   58.0    335  4.34  4.35  2.75\n"
          ]
        }
      ]
    },
    {
      "cell_type": "code",
      "source": [
        "#train-val-test split, ratio of 70:15:15\n",
        "SEED = 430149\n",
        "\n",
        "x_train, x_iter, y_train, y_iter = train_test_split(features, target, test_size = 0.3, \n",
        "                                                    random_state = SEED)\n",
        "x_val, x_test, y_val, y_test = train_test_split(x_iter, y_iter, test_size = 0.5,\n",
        "                                                random_state = SEED)"
      ],
      "metadata": {
        "id": "gnulO5Vi3Xw8"
      },
      "execution_count": 7,
      "outputs": []
    },
    {
      "cell_type": "code",
      "source": [
        "#standardise data\n",
        "ss = StandardScaler()\n",
        "\n",
        "ss.fit(x_train)\n",
        "\n",
        "x_train = ss.transform(x_train)\n",
        "x_val = ss.transform(x_val)\n",
        "x_test = ss.transform(x_test)"
      ],
      "metadata": {
        "id": "XSWq1_rh40eq"
      },
      "execution_count": 8,
      "outputs": []
    },
    {
      "cell_type": "code",
      "source": [
        "#create feed-forward neural network\n",
        "\n",
        "model = tf.keras.Sequential()\n",
        "\n",
        "model.add(tf.keras.layers.InputLayer(input_shape = x_train.shape[-1]))\n",
        "model.add(tf.keras.layers.Dense(128,activation='elu'))\n",
        "model.add(tf.keras.layers.Dense(64,activation='elu'))\n",
        "model.add(tf.keras.layers.Dense(32,activation='elu'))\n",
        "model.add(tf.keras.layers.Dropout(0.3))\n",
        "model.add(tf.keras.layers.Dense(1))\n",
        "\n",
        "model.compile(optimizer='adam',loss='mse',metrics=['mae','mse'])"
      ],
      "metadata": {
        "id": "av37ZWKoT7dq"
      },
      "execution_count": 9,
      "outputs": []
    },
    {
      "cell_type": "code",
      "source": [
        "tf.keras.utils.plot_model(model)"
      ],
      "metadata": {
        "colab": {
          "base_uri": "https://localhost:8080/",
          "height": 564
        },
        "id": "zc2TEZXsURom",
        "outputId": "bee4a5e1-a503-4864-c086-33bc1c7ee2a7"
      },
      "execution_count": 10,
      "outputs": [
        {
          "output_type": "execute_result",
          "data": {
            "text/plain": [
              "<IPython.core.display.Image object>"
            ],
            "image/png": "[encoded data removed]"
          },
          "metadata": {},
          "execution_count": 10
        }
      ]
    },
    {
      "cell_type": "code",
      "source": [
        "#train and evaluate model with validation data\n",
        "\n",
        "log_path = os.path.join(\"/content/logs\", datetime.datetime.now().strftime(\"%Y%m%d-%H%M%S\"))\n",
        "\n",
        "tb_callback = tf.keras.callbacks.TensorBoard(log_dir=log_path)\n",
        "es_callback = tf.keras.callbacks.EarlyStopping(monitor='val_loss',patience=5,verbose=2)\n",
        "\n",
        "EPOCHS = 100\n",
        "BATCH_SIZE=64\n",
        "\n",
        "history = model.fit(x_train,y_train,validation_data=(x_val,y_val),batch_size=BATCH_SIZE,epochs=EPOCHS,callbacks=[tb_callback,es_callback])"
      ],
      "metadata": {
        "colab": {
          "base_uri": "https://localhost:8080/"
        },
        "id": "_6iYs3vYUah4",
        "outputId": "8085632d-9188-4c4f-c336-a9a8356f1956"
      },
      "execution_count": 11,
      "outputs": [
        {
          "output_type": "stream",
          "name": "stdout",
          "text": [
            "Epoch 1/100\n",
            "590/590 [==============================] - 3s 4ms/step - loss: 10510379.0000 - mae: 2046.9822 - mse: 10510379.0000 - val_loss: 1451093.6250 - val_mae: 861.4315 - val_mse: 1451093.6250\n",
            "Epoch 2/100\n",
            "590/590 [==============================] - 2s 3ms/step - loss: 1538887.6250 - mae: 828.7902 - mse: 1538887.6250 - val_loss: 409325.0938 - val_mae: 341.9013 - val_mse: 409325.0938\n",
            "Epoch 3/100\n",
            "590/590 [==============================] - 2s 3ms/step - loss: 1105189.0000 - mae: 625.2808 - mse: 1105189.0000 - val_loss: 119921.2969 - val_mae: 187.5220 - val_mse: 119921.2969\n",
            "Epoch 4/100\n",
            "590/590 [==============================] - 2s 4ms/step - loss: 1083614.2500 - mae: 610.4601 - mse: 1083614.2500 - val_loss: 192023.6719 - val_mae: 262.6857 - val_mse: 192023.6719\n",
            "Epoch 5/100\n",
            "590/590 [==============================] - 3s 5ms/step - loss: 1059127.3750 - mae: 599.8449 - mse: 1059127.3750 - val_loss: 102142.7344 - val_mae: 149.5085 - val_mse: 102142.7344\n",
            "Epoch 6/100\n",
            "590/590 [==============================] - 2s 3ms/step - loss: 1010052.5625 - mae: 581.3737 - mse: 1010052.5625 - val_loss: 103326.3359 - val_mae: 127.0797 - val_mse: 103326.3359\n",
            "Epoch 7/100\n",
            "590/590 [==============================] - 2s 3ms/step - loss: 1015740.4375 - mae: 582.9551 - mse: 1015740.4375 - val_loss: 125655.2500 - val_mae: 160.5345 - val_mse: 125655.2500\n",
            "Epoch 8/100\n",
            "590/590 [==============================] - 2s 3ms/step - loss: 1033038.3750 - mae: 580.6855 - mse: 1033038.3750 - val_loss: 130962.8438 - val_mae: 202.8125 - val_mse: 130962.8438\n",
            "Epoch 9/100\n",
            "590/590 [==============================] - 2s 3ms/step - loss: 1022140.3125 - mae: 579.6664 - mse: 1022140.3125 - val_loss: 117222.9766 - val_mae: 180.0639 - val_mse: 117222.9766\n",
            "Epoch 10/100\n",
            "590/590 [==============================] - 2s 3ms/step - loss: 1020722.2500 - mae: 576.3849 - mse: 1020722.2500 - val_loss: 88726.7422 - val_mae: 140.8483 - val_mse: 88726.7422\n",
            "Epoch 11/100\n",
            "590/590 [==============================] - 2s 3ms/step - loss: 1029029.1250 - mae: 574.4810 - mse: 1029029.1250 - val_loss: 65352.0156 - val_mae: 90.6075 - val_mse: 65352.0156\n",
            "Epoch 12/100\n",
            "590/590 [==============================] - 2s 3ms/step - loss: 1028312.5000 - mae: 573.6620 - mse: 1028312.5000 - val_loss: 80313.0469 - val_mae: 137.4299 - val_mse: 80313.0469\n",
            "Epoch 13/100\n",
            "590/590 [==============================] - 2s 4ms/step - loss: 993368.5000 - mae: 561.6573 - mse: 993368.5000 - val_loss: 69202.2109 - val_mae: 113.3493 - val_mse: 69202.2109\n",
            "Epoch 14/100\n",
            "590/590 [==============================] - 2s 4ms/step - loss: 1023186.0625 - mae: 570.4251 - mse: 1023186.0625 - val_loss: 79538.6875 - val_mae: 149.6111 - val_mse: 79538.6875\n",
            "Epoch 15/100\n",
            "590/590 [==============================] - 2s 3ms/step - loss: 1026851.0625 - mae: 570.5833 - mse: 1026851.0625 - val_loss: 95763.3828 - val_mae: 174.2956 - val_mse: 95763.3906\n",
            "Epoch 16/100\n",
            "590/590 [==============================] - 2s 4ms/step - loss: 980633.5625 - mae: 557.0851 - mse: 980633.5625 - val_loss: 56573.2656 - val_mae: 102.0819 - val_mse: 56573.2656\n",
            "Epoch 17/100\n",
            "590/590 [==============================] - 2s 4ms/step - loss: 988827.8750 - mae: 561.1076 - mse: 988827.8750 - val_loss: 131403.6719 - val_mae: 211.6463 - val_mse: 131403.6719\n",
            "Epoch 18/100\n",
            "590/590 [==============================] - 2s 4ms/step - loss: 1002583.3750 - mae: 559.4709 - mse: 1002583.3750 - val_loss: 73283.4297 - val_mae: 136.4928 - val_mse: 73283.4297\n",
            "Epoch 19/100\n",
            "590/590 [==============================] - 2s 3ms/step - loss: 990965.5625 - mae: 559.7465 - mse: 990965.5625 - val_loss: 77948.2031 - val_mae: 147.5327 - val_mse: 77948.2031\n",
            "Epoch 20/100\n",
            "590/590 [==============================] - 2s 3ms/step - loss: 1011165.5625 - mae: 562.7042 - mse: 1011165.5625 - val_loss: 92636.7266 - val_mae: 167.9257 - val_mse: 92636.7266\n",
            "Epoch 21/100\n",
            "590/590 [==============================] - 2s 3ms/step - loss: 992827.4375 - mae: 555.2807 - mse: 992827.4375 - val_loss: 44530.5234 - val_mae: 84.1806 - val_mse: 44530.5234\n",
            "Epoch 22/100\n",
            "590/590 [==============================] - 2s 3ms/step - loss: 975944.1875 - mae: 552.4750 - mse: 975944.1875 - val_loss: 41866.2383 - val_mae: 74.6926 - val_mse: 41866.2383\n",
            "Epoch 23/100\n",
            "590/590 [==============================] - 2s 3ms/step - loss: 1019653.3125 - mae: 557.9665 - mse: 1019653.3125 - val_loss: 58197.2383 - val_mae: 126.4826 - val_mse: 58197.2383\n",
            "Epoch 24/100\n",
            "590/590 [==============================] - 2s 4ms/step - loss: 1023254.4375 - mae: 559.0827 - mse: 1023254.4375 - val_loss: 47051.2266 - val_mae: 101.8930 - val_mse: 47051.2266\n",
            "Epoch 25/100\n",
            "590/590 [==============================] - 2s 3ms/step - loss: 990232.6875 - mae: 551.0543 - mse: 990232.6875 - val_loss: 34940.3320 - val_mae: 52.5861 - val_mse: 34940.3320\n",
            "Epoch 26/100\n",
            "590/590 [==============================] - 3s 5ms/step - loss: 1011044.9375 - mae: 555.2941 - mse: 1011044.9375 - val_loss: 91534.9297 - val_mae: 163.6873 - val_mse: 91534.9297\n",
            "Epoch 27/100\n",
            "590/590 [==============================] - 3s 5ms/step - loss: 1017516.4375 - mae: 558.9915 - mse: 1017516.4375 - val_loss: 53544.7930 - val_mae: 124.7417 - val_mse: 53544.7930\n",
            "Epoch 28/100\n",
            "590/590 [==============================] - 2s 3ms/step - loss: 984396.7500 - mae: 552.5204 - mse: 984396.7500 - val_loss: 97840.3984 - val_mae: 185.5688 - val_mse: 97840.3984\n",
            "Epoch 29/100\n",
            "590/590 [==============================] - 2s 4ms/step - loss: 988234.8750 - mae: 550.6987 - mse: 988234.8750 - val_loss: 45585.6211 - val_mae: 104.0636 - val_mse: 45585.6211\n",
            "Epoch 30/100\n",
            "590/590 [==============================] - 2s 3ms/step - loss: 989772.7500 - mae: 551.5144 - mse: 989772.7500 - val_loss: 79352.2344 - val_mae: 158.8461 - val_mse: 79352.2344\n",
            "Epoch 30: early stopping\n"
          ]
        }
      ]
    },
    {
      "cell_type": "code",
      "source": [
        "#plot loss over training\n",
        "training_loss = history.history['loss']\n",
        "val_loss = history.history['val_loss']\n",
        "epoch = history.epoch\n",
        "\n",
        "plt.plot(epoch, training_loss, label='Training Loss')\n",
        "plt.plot(epoch, val_loss, label='Validation Loss')\n",
        "plt.title('Training vs Validation Loss')\n",
        "plt.legend()\n",
        "plt.figure()\n",
        "plt.savefig(os.path.join(\"/content/\",\"loss.png\"),bbox_inches='tight')\n",
        "plt.show()"
      ],
      "metadata": {
        "colab": {
          "base_uri": "https://localhost:8080/",
          "height": 298
        },
        "id": "-NZQNc4FWOnx",
        "outputId": "096af728-4d07-4f60-a82b-63e823b5638b"
      },
      "execution_count": 12,
      "outputs": [
        {
          "output_type": "display_data",
          "data": {
            "text/plain": [
              "<Figure size 432x288 with 1 Axes>"
            ],
            "image/png": "[encoded data removed]"
          },
          "metadata": {
            "needs_background": "light"
          }
        },
        {
          "output_type": "display_data",
          "data": {
            "text/plain": [
              "<Figure size 432x288 with 0 Axes>"
            ]
          },
          "metadata": {}
        }
      ]
    },
    {
      "cell_type": "code",
      "source": [
        "mae = history.history['mae']\n",
        "mse = history.history['mse']\n",
        "\n",
        "plt.plot(epoch, mae, label='mae')\n",
        "plt.plot(epoch, mse, label = 'mse')\n",
        "plt.title('MAE vs MSE over Epochs')\n",
        "plt.legend()\n",
        "plt.figure()\n",
        "plt.savefig(os.path.join(\"/content/\",\"accuracy.png\"),bbox_inches='tight')\n",
        "plt.show()"
      ],
      "metadata": {
        "colab": {
          "base_uri": "https://localhost:8080/",
          "height": 298
        },
        "id": "5OXzrXaTWVU4",
        "outputId": "6b6ab1e6-abc7-4e15-e44b-2c2b8802665e"
      },
      "execution_count": 13,
      "outputs": [
        {
          "output_type": "display_data",
          "data": {
            "text/plain": [
              "<Figure size 432x288 with 1 Axes>"
            ],
            "image/png": "[encoded data removed]"
          },
          "metadata": {
            "needs_background": "light"
          }
        },
        {
          "output_type": "display_data",
          "data": {
            "text/plain": [
              "<Figure size 432x288 with 0 Axes>"
            ]
          },
          "metadata": {}
        }
      ]
    },
    {
      "cell_type": "code",
      "source": [
        "#evaluate model with test data\n",
        "test_result = model.evaluate(x_test,y_test,batch_size=BATCH_SIZE)\n",
        "print(f\"Test loss = {test_result[0]}\")\n",
        "print(f\"Test MAE = {test_result[1]}\")\n",
        "print(f\"Test MSE = {test_result[2]}\")"
      ],
      "metadata": {
        "colab": {
          "base_uri": "https://localhost:8080/"
        },
        "id": "zjlPh1LfUq4s",
        "outputId": "e774c993-19e9-412a-b572-b7249ca8a016"
      },
      "execution_count": 14,
      "outputs": [
        {
          "output_type": "stream",
          "name": "stdout",
          "text": [
            "127/127 [==============================] - 1s 6ms/step - loss: 52699.3008 - mae: 158.6764 - mse: 52699.3008\n",
            "Test loss = 52699.30078125\n",
            "Test MAE = 158.6764373779297\n",
            "Test MSE = 52699.30078125\n"
          ]
        }
      ]
    },
    {
      "cell_type": "code",
      "source": [
        "#plot graph of prediction vs label on test data\n",
        "\n",
        "predictions = np.squeeze(model.predict(x_test))\n",
        "labels = np.squeeze(y_test)\n",
        "\n",
        "plt.plot(predictions,labels,\".\")\n",
        "plt.xlabel(\"Predictions\")\n",
        "plt.ylabel(\"Labels\")\n",
        "plt.title(\"Graph of Predictions vs Labels with Test Data\")\n",
        "plt.savefig(os.path.join(\"/content/\",\"result.png\"),bbox_inches='tight')\n",
        "plt.show()"
      ],
      "metadata": {
        "colab": {
          "base_uri": "https://localhost:8080/",
          "height": 295
        },
        "id": "fZ7m8DsAU0sj",
        "outputId": "bbaa00cb-8976-4cda-8e7c-b8719406169c"
      },
      "execution_count": 15,
      "outputs": [
        {
          "output_type": "display_data",
          "data": {
            "text/plain": [
              "<Figure size 432x288 with 1 Axes>"
            ],
            "image/png": "[encoded data removed]"
          },
          "metadata": {
            "needs_background": "light"
          }
        }
      ]
    }
  ]
}